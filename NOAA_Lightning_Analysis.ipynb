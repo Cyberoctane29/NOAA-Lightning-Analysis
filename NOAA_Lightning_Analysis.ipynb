{
 "cells": [
  {
   "cell_type": "markdown",
   "metadata": {},
   "source": [
    "# NOAA Lightning Analysis"
   ]
  },
  {
   "cell_type": "markdown",
   "metadata": {},
   "source": [
    "## Introduction\n",
    "\n",
    "In this notebook, I will analyze lightning strike data collected by the National Oceanic and Atmospheric Administration (NOAA). The dataset covers multiple years, including data from 1987 to 2020, as well as specific analyses for the years 2016, 2017, and 2018. My goal is to explore patterns, trends, and anomalies in lightning activity across different timeframes and geographic locations."
   ]
  },
  {
   "cell_type": "markdown",
   "metadata": {},
   "source": [
    "## Overview\n",
    "\n",
    "To achieve this, I will perform various analyses, including:\n",
    "\n",
    "- Calculating the total number of lightning strikes per month and visualizing them on bar graphs.\n",
    "- Aggregating weekly and quarterly lightning strike data and identifying seasonal trends.\n",
    "- Finding the locations with the highest number of lightning strikes in a single day and those with the most strike days.\n",
    "- Examining whether certain days of the week had more lightning strikes than others.\n",
    "- Merging datasets to ensure completeness and investigating missing data.\n",
    "- Assigning monthly lightning strike counts to severity categories and visualizing the data using heatmaps.\n",
    "- Validating data quality by checking for null values, missing dates, and ensuring geographic accuracy.\n",
    "- Identifying yearly lightning strike outliers and visualizing trends using scatterplots.\n",
    "\n",
    "By conducting these analyses, I aim to gain insights into lightning strike behavior, identify patterns, and validate the reliability of the dataset for further research.\n"
   ]
  },
  {
   "cell_type": "markdown",
   "metadata": {},
   "source": []
  }
 ],
 "metadata": {
  "kernelspec": {
   "display_name": "Python 3",
   "language": "python",
   "name": "python3"
  },
  "language_info": {
   "codemirror_mode": {
    "name": "ipython",
    "version": 3
   },
   "file_extension": ".py",
   "mimetype": "text/x-python",
   "name": "python",
   "nbconvert_exporter": "python",
   "pygments_lexer": "ipython3",
   "version": "3.13.0"
  }
 },
 "nbformat": 4,
 "nbformat_minor": 2
}
