{
 "cells": [
  {
   "cell_type": "markdown",
   "metadata": {},
   "source": [
    "# NOAA Lightning Analysis"
   ]
  },
  {
   "cell_type": "markdown",
   "metadata": {},
   "source": [
    "## Introduction\n",
    "\n",
    "In this notebook, I will analyze lightning strike data collected by the National Oceanic and Atmospheric Administration (NOAA). The dataset covers multiple years, including data from 1987 to 2020, as well as specific analyses for the years 2016, 2017, and 2018. My goal is to explore patterns, trends, and anomalies in lightning activity across different timeframes and geographic locations."
   ]
  },
  {
   "cell_type": "markdown",
   "metadata": {},
   "source": [
    "## Overview\n",
    "\n",
    "To achieve this, I will perform various analyses, including:\n",
    "\n",
    "- Calculating the total number of lightning strikes per month and visualizing them on bar graphs.\n",
    "- Aggregating weekly and quarterly lightning strike data and identifying seasonal trends.\n",
    "- Finding the locations with the highest number of lightning strikes in a single day and those with the most strike days.\n",
    "- Examining whether certain days of the week had more lightning strikes than others.\n",
    "- Merging datasets to ensure completeness and investigating missing data.\n",
    "- Assigning monthly lightning strike counts to severity categories and visualizing the data using heatmaps.\n",
    "- Validating data quality by checking for null values, missing dates, and ensuring geographic accuracy.\n",
    "- Identifying yearly lightning strike outliers and visualizing trends using scatterplots.\n",
    "\n",
    "By conducting these analyses, I aim to gain insights into lightning strike behavior, identify patterns, and validate the reliability of the dataset for further research.\n"
   ]
  },
  {
   "cell_type": "markdown",
   "metadata": {},
   "source": [
    "## Dataset Structure\n",
    "\n",
    "### Lightning Strike Datasets\n",
    "These datasets contain information about lightning strikes recorded by the National Oceanic and Atmospheric Administration (NOAA). Across the 13 datasets, various fields capture details about strike locations, dates, and other relevant geographical and statistical information. While some fields are common across multiple datasets, others are unique to specific datasets. Below is a description of the key fields found in these datasets:\n",
    "\n",
    "- **date**: The date when the lightning strike was recorded.\n",
    "- **year**: The year in which the lightning strike occurred.\n",
    "- **number_of_strikes**: The total number of lightning strikes recorded on the given date.\n",
    "- **center_point_geom**: The geometric center point of the lightning strike in the format `POINT(longitude latitude)`.\n",
    "- **longitude**: The longitude coordinate of the lightning strike location.\n",
    "- **latitude**: The latitude coordinate of the lightning strike location.\n",
    "- **zip_code**: The postal zip code of the area where the lightning strike was recorded.\n",
    "- **city**: The name of the city where the lightning strike occurred.\n",
    "- **state**: The full name of the state where the lightning strike was recorded.\n",
    "- **state_code**: The abbreviated state code (e.g., 'AR' for Arkansas).\n",
    "- **count_lightning**: The cumulative count of lightning strikes recorded for the specified location and time period.\n"
   ]
  },
  {
   "cell_type": "markdown",
   "metadata": {},
   "source": [
    "## EDA using basic data functions with Python"
   ]
  },
  {
   "cell_type": "markdown",
   "metadata": {},
   "source": [
    "I will use pandas to examine 2018 lightning strike data collected by the National Oceanic and Atmospheric Administration (NOAA). My goal is to calculate the total number of strikes for each month and visualize this information using a bar graph."
   ]
  },
  {
   "cell_type": "markdown",
   "metadata": {},
   "source": [
    "### Import packages and libraries\n"
   ]
  },
  {
   "cell_type": "markdown",
   "metadata": {},
   "source": [
    "Before I begin, I need to import all the required libraries and extensions. I will use pandas, numpy, and datetime for data operations, and matplotlib and seaborn for visualization.\n"
   ]
  },
  {
   "cell_type": "code",
   "execution_count": 1,
   "metadata": {},
   "outputs": [],
   "source": [
    "import pandas as pd\n",
    "import numpy as np\n",
    "import datetime as dt\n",
    "import matplotlib.pyplot as plt"
   ]
  },
  {
   "cell_type": "markdown",
   "metadata": {},
   "source": [
    "Next, I will load the dataset and display a sample of the data.\n"
   ]
  },
  {
   "cell_type": "code",
   "execution_count": 2,
   "metadata": {},
   "outputs": [],
   "source": [
    "df = pd.read_csv(r'C:\\Users\\saswa\\Documents\\GitHub\\NOAA-Lightning-Analysis\\Data\\eda_using_basic_data_functions_in_python_dataset1.csv')\n"
   ]
  },
  {
   "cell_type": "markdown",
   "metadata": {},
   "source": [
    "### Basic Exploration\n",
    "To understand the structure of the dataset, I will check its size and display the first 10 rows."
   ]
  },
  {
   "cell_type": "code",
   "execution_count": 3,
   "metadata": {},
   "outputs": [
    {
     "data": {
      "text/html": [
       "<div>\n",
       "<style scoped>\n",
       "    .dataframe tbody tr th:only-of-type {\n",
       "        vertical-align: middle;\n",
       "    }\n",
       "\n",
       "    .dataframe tbody tr th {\n",
       "        vertical-align: top;\n",
       "    }\n",
       "\n",
       "    .dataframe thead th {\n",
       "        text-align: right;\n",
       "    }\n",
       "</style>\n",
       "<table border=\"1\" class=\"dataframe\">\n",
       "  <thead>\n",
       "    <tr style=\"text-align: right;\">\n",
       "      <th></th>\n",
       "      <th>date</th>\n",
       "      <th>number_of_strikes</th>\n",
       "      <th>center_point_geom</th>\n",
       "    </tr>\n",
       "  </thead>\n",
       "  <tbody>\n",
       "    <tr>\n",
       "      <th>0</th>\n",
       "      <td>2018-01-03</td>\n",
       "      <td>194</td>\n",
       "      <td>POINT(-75 27)</td>\n",
       "    </tr>\n",
       "    <tr>\n",
       "      <th>1</th>\n",
       "      <td>2018-01-03</td>\n",
       "      <td>41</td>\n",
       "      <td>POINT(-78.4 29)</td>\n",
       "    </tr>\n",
       "    <tr>\n",
       "      <th>2</th>\n",
       "      <td>2018-01-03</td>\n",
       "      <td>33</td>\n",
       "      <td>POINT(-73.9 27)</td>\n",
       "    </tr>\n",
       "    <tr>\n",
       "      <th>3</th>\n",
       "      <td>2018-01-03</td>\n",
       "      <td>38</td>\n",
       "      <td>POINT(-73.8 27)</td>\n",
       "    </tr>\n",
       "    <tr>\n",
       "      <th>4</th>\n",
       "      <td>2018-01-03</td>\n",
       "      <td>92</td>\n",
       "      <td>POINT(-79 28)</td>\n",
       "    </tr>\n",
       "    <tr>\n",
       "      <th>5</th>\n",
       "      <td>2018-01-03</td>\n",
       "      <td>119</td>\n",
       "      <td>POINT(-78 28)</td>\n",
       "    </tr>\n",
       "    <tr>\n",
       "      <th>6</th>\n",
       "      <td>2018-01-03</td>\n",
       "      <td>35</td>\n",
       "      <td>POINT(-79.3 28)</td>\n",
       "    </tr>\n",
       "    <tr>\n",
       "      <th>7</th>\n",
       "      <td>2018-01-03</td>\n",
       "      <td>60</td>\n",
       "      <td>POINT(-79.1 28)</td>\n",
       "    </tr>\n",
       "    <tr>\n",
       "      <th>8</th>\n",
       "      <td>2018-01-03</td>\n",
       "      <td>41</td>\n",
       "      <td>POINT(-78.7 28)</td>\n",
       "    </tr>\n",
       "    <tr>\n",
       "      <th>9</th>\n",
       "      <td>2018-01-03</td>\n",
       "      <td>119</td>\n",
       "      <td>POINT(-78.6 28)</td>\n",
       "    </tr>\n",
       "  </tbody>\n",
       "</table>\n",
       "</div>"
      ],
      "text/plain": [
       "         date  number_of_strikes center_point_geom\n",
       "0  2018-01-03                194     POINT(-75 27)\n",
       "1  2018-01-03                 41   POINT(-78.4 29)\n",
       "2  2018-01-03                 33   POINT(-73.9 27)\n",
       "3  2018-01-03                 38   POINT(-73.8 27)\n",
       "4  2018-01-03                 92     POINT(-79 28)\n",
       "5  2018-01-03                119     POINT(-78 28)\n",
       "6  2018-01-03                 35   POINT(-79.3 28)\n",
       "7  2018-01-03                 60   POINT(-79.1 28)\n",
       "8  2018-01-03                 41   POINT(-78.7 28)\n",
       "9  2018-01-03                119   POINT(-78.6 28)"
      ]
     },
     "execution_count": 3,
     "metadata": {},
     "output_type": "execute_result"
    }
   ],
   "source": [
    "df.size\n",
    "df.head(10)"
   ]
  },
  {
   "cell_type": "markdown",
   "metadata": {},
   "source": [
    "The data is structured with one row per day along with the geometric location of the strike. A quick way to determine how many rows and columns exist is by using `df.shape`.\n"
   ]
  },
  {
   "cell_type": "markdown",
   "metadata": {},
   "source": [
    "df.shape\n"
   ]
  },
  {
   "cell_type": "markdown",
   "metadata": {},
   "source": [
    "This dataset contains 3,401,012 rows and 3 columns.\n"
   ]
  },
  {
   "cell_type": "code",
   "execution_count": 4,
   "metadata": {},
   "outputs": [
    {
     "name": "stdout",
     "output_type": "stream",
     "text": [
      "<class 'pandas.core.frame.DataFrame'>\n",
      "RangeIndex: 3401012 entries, 0 to 3401011\n",
      "Data columns (total 3 columns):\n",
      " #   Column             Dtype \n",
      "---  ------             ----- \n",
      " 0   date               object\n",
      " 1   number_of_strikes  int64 \n",
      " 2   center_point_geom  object\n",
      "dtypes: int64(1), object(2)\n",
      "memory usage: 77.8+ MB\n"
     ]
    }
   ],
   "source": [
    "df.info()\n"
   ]
  },
  {
   "cell_type": "markdown",
   "metadata": {},
   "source": [
    "I can see that the `date` column is an object type rather than a datetime type, which means it is stored as a string. To perform operations on dates, I need to convert it to a datetime format.\n"
   ]
  },
  {
   "cell_type": "code",
   "execution_count": 5,
   "metadata": {},
   "outputs": [
    {
     "name": "stdout",
     "output_type": "stream",
     "text": [
      "<class 'pandas.core.frame.DataFrame'>\n",
      "RangeIndex: 3401012 entries, 0 to 3401011\n",
      "Data columns (total 3 columns):\n",
      " #   Column             Dtype         \n",
      "---  ------             -----         \n",
      " 0   date               datetime64[ns]\n",
      " 1   number_of_strikes  int64         \n",
      " 2   center_point_geom  object        \n",
      "dtypes: datetime64[ns](1), int64(1), object(1)\n",
      "memory usage: 77.8+ MB\n"
     ]
    }
   ],
   "source": [
    "df['date'] = pd.to_datetime(df['date'])\n",
    "df.info()"
   ]
  },
  {
   "cell_type": "markdown",
   "metadata": {},
   "source": [
    "### Find the Days with the Most Strikes\n",
    "To understand the highest data points, I will calculate the top 10 days in 2018 with the most lightning strikes.\n"
   ]
  },
  {
   "cell_type": "code",
   "execution_count": 6,
   "metadata": {},
   "outputs": [
    {
     "data": {
      "text/html": [
       "<div>\n",
       "<style scoped>\n",
       "    .dataframe tbody tr th:only-of-type {\n",
       "        vertical-align: middle;\n",
       "    }\n",
       "\n",
       "    .dataframe tbody tr th {\n",
       "        vertical-align: top;\n",
       "    }\n",
       "\n",
       "    .dataframe thead th {\n",
       "        text-align: right;\n",
       "    }\n",
       "</style>\n",
       "<table border=\"1\" class=\"dataframe\">\n",
       "  <thead>\n",
       "    <tr style=\"text-align: right;\">\n",
       "      <th></th>\n",
       "      <th>number_of_strikes</th>\n",
       "      <th>center_point_geom</th>\n",
       "    </tr>\n",
       "    <tr>\n",
       "      <th>date</th>\n",
       "      <th></th>\n",
       "      <th></th>\n",
       "    </tr>\n",
       "  </thead>\n",
       "  <tbody>\n",
       "    <tr>\n",
       "      <th>2018-08-29</th>\n",
       "      <td>1070457</td>\n",
       "      <td>POINT(-85.7 29.1)POINT(-85.6 29.1)POINT(-84.5 ...</td>\n",
       "    </tr>\n",
       "    <tr>\n",
       "      <th>2018-08-17</th>\n",
       "      <td>969774</td>\n",
       "      <td>POINT(-80.6 20.3)POINT(-80.5 20.3)POINT(-80.4 ...</td>\n",
       "    </tr>\n",
       "    <tr>\n",
       "      <th>2018-08-28</th>\n",
       "      <td>917199</td>\n",
       "      <td>POINT(-108.2 28)POINT(-108.1 28)POINT(-108 28)...</td>\n",
       "    </tr>\n",
       "    <tr>\n",
       "      <th>2018-08-27</th>\n",
       "      <td>824589</td>\n",
       "      <td>POINT(-109 24.8)POINT(-108 24.8)POINT(-88.1 24...</td>\n",
       "    </tr>\n",
       "    <tr>\n",
       "      <th>2018-08-30</th>\n",
       "      <td>802170</td>\n",
       "      <td>POINT(-75.7 19)POINT(-75.6 19)POINT(-78 20)POI...</td>\n",
       "    </tr>\n",
       "    <tr>\n",
       "      <th>2018-08-19</th>\n",
       "      <td>786225</td>\n",
       "      <td>POINT(-73 35)POINT(-103 35)POINT(-101 35)POINT...</td>\n",
       "    </tr>\n",
       "    <tr>\n",
       "      <th>2018-08-18</th>\n",
       "      <td>741180</td>\n",
       "      <td>POINT(-110.7 46)POINT(-104.9 46)POINT(-115.1 4...</td>\n",
       "    </tr>\n",
       "    <tr>\n",
       "      <th>2018-08-16</th>\n",
       "      <td>734475</td>\n",
       "      <td>POINT(-97 20)POINT(-77 20)POINT(-96.9 20)POINT...</td>\n",
       "    </tr>\n",
       "    <tr>\n",
       "      <th>2018-08-31</th>\n",
       "      <td>723624</td>\n",
       "      <td>POINT(-95.2 48.4)POINT(-96 48.1)POINT(-96.1 48...</td>\n",
       "    </tr>\n",
       "    <tr>\n",
       "      <th>2018-08-15</th>\n",
       "      <td>673455</td>\n",
       "      <td>POINT(-95.7 20)POINT(-95.6 20)POINT(-82 21)POI...</td>\n",
       "    </tr>\n",
       "  </tbody>\n",
       "</table>\n",
       "</div>"
      ],
      "text/plain": [
       "            number_of_strikes  \\\n",
       "date                            \n",
       "2018-08-29            1070457   \n",
       "2018-08-17             969774   \n",
       "2018-08-28             917199   \n",
       "2018-08-27             824589   \n",
       "2018-08-30             802170   \n",
       "2018-08-19             786225   \n",
       "2018-08-18             741180   \n",
       "2018-08-16             734475   \n",
       "2018-08-31             723624   \n",
       "2018-08-15             673455   \n",
       "\n",
       "                                            center_point_geom  \n",
       "date                                                           \n",
       "2018-08-29  POINT(-85.7 29.1)POINT(-85.6 29.1)POINT(-84.5 ...  \n",
       "2018-08-17  POINT(-80.6 20.3)POINT(-80.5 20.3)POINT(-80.4 ...  \n",
       "2018-08-28  POINT(-108.2 28)POINT(-108.1 28)POINT(-108 28)...  \n",
       "2018-08-27  POINT(-109 24.8)POINT(-108 24.8)POINT(-88.1 24...  \n",
       "2018-08-30  POINT(-75.7 19)POINT(-75.6 19)POINT(-78 20)POI...  \n",
       "2018-08-19  POINT(-73 35)POINT(-103 35)POINT(-101 35)POINT...  \n",
       "2018-08-18  POINT(-110.7 46)POINT(-104.9 46)POINT(-115.1 4...  \n",
       "2018-08-16  POINT(-97 20)POINT(-77 20)POINT(-96.9 20)POINT...  \n",
       "2018-08-31  POINT(-95.2 48.4)POINT(-96 48.1)POINT(-96.1 48...  \n",
       "2018-08-15  POINT(-95.7 20)POINT(-95.6 20)POINT(-82 21)POI...  "
      ]
     },
     "execution_count": 6,
     "metadata": {},
     "output_type": "execute_result"
    }
   ],
   "source": [
    "df.groupby(['date']).sum().sort_values('number_of_strikes', ascending=False).head(10)\n"
   ]
  },
  {
   "cell_type": "markdown",
   "metadata": {},
   "source": [
    "It's important to use `sum()` instead of `count()` here. Using `count()` would return the number of occurrences of each date rather than the total strikes.\n"
   ]
  },
  {
   "cell_type": "markdown",
   "metadata": {},
   "source": [
    "### Extract Month Data\n",
    "Now, I will extract the month from the `date` column and store it in a new column called `month`.\n"
   ]
  },
  {
   "cell_type": "code",
   "execution_count": 7,
   "metadata": {},
   "outputs": [
    {
     "data": {
      "text/html": [
       "<div>\n",
       "<style scoped>\n",
       "    .dataframe tbody tr th:only-of-type {\n",
       "        vertical-align: middle;\n",
       "    }\n",
       "\n",
       "    .dataframe tbody tr th {\n",
       "        vertical-align: top;\n",
       "    }\n",
       "\n",
       "    .dataframe thead th {\n",
       "        text-align: right;\n",
       "    }\n",
       "</style>\n",
       "<table border=\"1\" class=\"dataframe\">\n",
       "  <thead>\n",
       "    <tr style=\"text-align: right;\">\n",
       "      <th></th>\n",
       "      <th>date</th>\n",
       "      <th>number_of_strikes</th>\n",
       "      <th>center_point_geom</th>\n",
       "      <th>month</th>\n",
       "    </tr>\n",
       "  </thead>\n",
       "  <tbody>\n",
       "    <tr>\n",
       "      <th>0</th>\n",
       "      <td>2018-01-03</td>\n",
       "      <td>194</td>\n",
       "      <td>POINT(-75 27)</td>\n",
       "      <td>1</td>\n",
       "    </tr>\n",
       "    <tr>\n",
       "      <th>1</th>\n",
       "      <td>2018-01-03</td>\n",
       "      <td>41</td>\n",
       "      <td>POINT(-78.4 29)</td>\n",
       "      <td>1</td>\n",
       "    </tr>\n",
       "    <tr>\n",
       "      <th>2</th>\n",
       "      <td>2018-01-03</td>\n",
       "      <td>33</td>\n",
       "      <td>POINT(-73.9 27)</td>\n",
       "      <td>1</td>\n",
       "    </tr>\n",
       "    <tr>\n",
       "      <th>3</th>\n",
       "      <td>2018-01-03</td>\n",
       "      <td>38</td>\n",
       "      <td>POINT(-73.8 27)</td>\n",
       "      <td>1</td>\n",
       "    </tr>\n",
       "    <tr>\n",
       "      <th>4</th>\n",
       "      <td>2018-01-03</td>\n",
       "      <td>92</td>\n",
       "      <td>POINT(-79 28)</td>\n",
       "      <td>1</td>\n",
       "    </tr>\n",
       "  </tbody>\n",
       "</table>\n",
       "</div>"
      ],
      "text/plain": [
       "        date  number_of_strikes center_point_geom  month\n",
       "0 2018-01-03                194     POINT(-75 27)      1\n",
       "1 2018-01-03                 41   POINT(-78.4 29)      1\n",
       "2 2018-01-03                 33   POINT(-73.9 27)      1\n",
       "3 2018-01-03                 38   POINT(-73.8 27)      1\n",
       "4 2018-01-03                 92     POINT(-79 28)      1"
      ]
     },
     "execution_count": 7,
     "metadata": {},
     "output_type": "execute_result"
    }
   ],
   "source": [
    "df['month'] = df['date'].dt.month\n",
    "df.head()"
   ]
  },
  {
   "cell_type": "markdown",
   "metadata": {},
   "source": [
    "### Calculate the Number of Strikes per Month\n",
    "I will now aggregate the total number of strikes per month and sort the results in descending order.\n"
   ]
  },
  {
   "cell_type": "code",
   "execution_count": 8,
   "metadata": {},
   "outputs": [
    {
     "data": {
      "text/plain": [
       "month\n",
       "8     15525255\n",
       "7      8320400\n",
       "6      6445083\n",
       "5      4166726\n",
       "9      3018336\n",
       "2      2071315\n",
       "4      1524339\n",
       "10     1093962\n",
       "1       860045\n",
       "3       854168\n",
       "11      409263\n",
       "12      312097\n",
       "Name: number_of_strikes, dtype: int64"
      ]
     },
     "execution_count": 8,
     "metadata": {},
     "output_type": "execute_result"
    }
   ],
   "source": [
    "df.groupby(['month'])['number_of_strikes'].sum().sort_values(ascending=False).head(12)\n"
   ]
  },
  {
   "cell_type": "markdown",
   "metadata": {},
   "source": [
    "### Convert Month Numbers to Text\n",
    "To make the data more readable, I will convert the month numbers into text."
   ]
  },
  {
   "cell_type": "code",
   "execution_count": 9,
   "metadata": {},
   "outputs": [
    {
     "data": {
      "text/html": [
       "<div>\n",
       "<style scoped>\n",
       "    .dataframe tbody tr th:only-of-type {\n",
       "        vertical-align: middle;\n",
       "    }\n",
       "\n",
       "    .dataframe tbody tr th {\n",
       "        vertical-align: top;\n",
       "    }\n",
       "\n",
       "    .dataframe thead th {\n",
       "        text-align: right;\n",
       "    }\n",
       "</style>\n",
       "<table border=\"1\" class=\"dataframe\">\n",
       "  <thead>\n",
       "    <tr style=\"text-align: right;\">\n",
       "      <th></th>\n",
       "      <th>date</th>\n",
       "      <th>number_of_strikes</th>\n",
       "      <th>center_point_geom</th>\n",
       "      <th>month</th>\n",
       "      <th>month_txt</th>\n",
       "    </tr>\n",
       "  </thead>\n",
       "  <tbody>\n",
       "    <tr>\n",
       "      <th>0</th>\n",
       "      <td>2018-01-03</td>\n",
       "      <td>194</td>\n",
       "      <td>POINT(-75 27)</td>\n",
       "      <td>1</td>\n",
       "      <td>Jan</td>\n",
       "    </tr>\n",
       "    <tr>\n",
       "      <th>1</th>\n",
       "      <td>2018-01-03</td>\n",
       "      <td>41</td>\n",
       "      <td>POINT(-78.4 29)</td>\n",
       "      <td>1</td>\n",
       "      <td>Jan</td>\n",
       "    </tr>\n",
       "    <tr>\n",
       "      <th>2</th>\n",
       "      <td>2018-01-03</td>\n",
       "      <td>33</td>\n",
       "      <td>POINT(-73.9 27)</td>\n",
       "      <td>1</td>\n",
       "      <td>Jan</td>\n",
       "    </tr>\n",
       "    <tr>\n",
       "      <th>3</th>\n",
       "      <td>2018-01-03</td>\n",
       "      <td>38</td>\n",
       "      <td>POINT(-73.8 27)</td>\n",
       "      <td>1</td>\n",
       "      <td>Jan</td>\n",
       "    </tr>\n",
       "    <tr>\n",
       "      <th>4</th>\n",
       "      <td>2018-01-03</td>\n",
       "      <td>92</td>\n",
       "      <td>POINT(-79 28)</td>\n",
       "      <td>1</td>\n",
       "      <td>Jan</td>\n",
       "    </tr>\n",
       "  </tbody>\n",
       "</table>\n",
       "</div>"
      ],
      "text/plain": [
       "        date  number_of_strikes center_point_geom  month month_txt\n",
       "0 2018-01-03                194     POINT(-75 27)      1       Jan\n",
       "1 2018-01-03                 41   POINT(-78.4 29)      1       Jan\n",
       "2 2018-01-03                 33   POINT(-73.9 27)      1       Jan\n",
       "3 2018-01-03                 38   POINT(-73.8 27)      1       Jan\n",
       "4 2018-01-03                 92     POINT(-79 28)      1       Jan"
      ]
     },
     "execution_count": 9,
     "metadata": {},
     "output_type": "execute_result"
    }
   ],
   "source": [
    "df['month_txt'] = df['date'].dt.month_name().str.slice(stop=3)\n",
    "df.head()"
   ]
  },
  {
   "cell_type": "markdown",
   "metadata": {},
   "source": [
    "### Create a New DataFrame for Visualization\n",
    "I will now create a new dataframe `df_by_month` to structure the data for visualization."
   ]
  },
  {
   "cell_type": "code",
   "execution_count": 10,
   "metadata": {},
   "outputs": [
    {
     "data": {
      "text/html": [
       "<div>\n",
       "<style scoped>\n",
       "    .dataframe tbody tr th:only-of-type {\n",
       "        vertical-align: middle;\n",
       "    }\n",
       "\n",
       "    .dataframe tbody tr th {\n",
       "        vertical-align: top;\n",
       "    }\n",
       "\n",
       "    .dataframe thead th {\n",
       "        text-align: right;\n",
       "    }\n",
       "</style>\n",
       "<table border=\"1\" class=\"dataframe\">\n",
       "  <thead>\n",
       "    <tr style=\"text-align: right;\">\n",
       "      <th></th>\n",
       "      <th>month</th>\n",
       "      <th>month_txt</th>\n",
       "      <th>number_of_strikes</th>\n",
       "    </tr>\n",
       "  </thead>\n",
       "  <tbody>\n",
       "    <tr>\n",
       "      <th>0</th>\n",
       "      <td>1</td>\n",
       "      <td>Jan</td>\n",
       "      <td>860045</td>\n",
       "    </tr>\n",
       "    <tr>\n",
       "      <th>1</th>\n",
       "      <td>2</td>\n",
       "      <td>Feb</td>\n",
       "      <td>2071315</td>\n",
       "    </tr>\n",
       "    <tr>\n",
       "      <th>2</th>\n",
       "      <td>3</td>\n",
       "      <td>Mar</td>\n",
       "      <td>854168</td>\n",
       "    </tr>\n",
       "    <tr>\n",
       "      <th>3</th>\n",
       "      <td>4</td>\n",
       "      <td>Apr</td>\n",
       "      <td>1524339</td>\n",
       "    </tr>\n",
       "    <tr>\n",
       "      <th>4</th>\n",
       "      <td>5</td>\n",
       "      <td>May</td>\n",
       "      <td>4166726</td>\n",
       "    </tr>\n",
       "    <tr>\n",
       "      <th>5</th>\n",
       "      <td>6</td>\n",
       "      <td>Jun</td>\n",
       "      <td>6445083</td>\n",
       "    </tr>\n",
       "    <tr>\n",
       "      <th>6</th>\n",
       "      <td>7</td>\n",
       "      <td>Jul</td>\n",
       "      <td>8320400</td>\n",
       "    </tr>\n",
       "    <tr>\n",
       "      <th>7</th>\n",
       "      <td>8</td>\n",
       "      <td>Aug</td>\n",
       "      <td>15525255</td>\n",
       "    </tr>\n",
       "    <tr>\n",
       "      <th>8</th>\n",
       "      <td>9</td>\n",
       "      <td>Sep</td>\n",
       "      <td>3018336</td>\n",
       "    </tr>\n",
       "    <tr>\n",
       "      <th>9</th>\n",
       "      <td>10</td>\n",
       "      <td>Oct</td>\n",
       "      <td>1093962</td>\n",
       "    </tr>\n",
       "    <tr>\n",
       "      <th>10</th>\n",
       "      <td>11</td>\n",
       "      <td>Nov</td>\n",
       "      <td>409263</td>\n",
       "    </tr>\n",
       "    <tr>\n",
       "      <th>11</th>\n",
       "      <td>12</td>\n",
       "      <td>Dec</td>\n",
       "      <td>312097</td>\n",
       "    </tr>\n",
       "  </tbody>\n",
       "</table>\n",
       "</div>"
      ],
      "text/plain": [
       "    month month_txt  number_of_strikes\n",
       "0       1       Jan             860045\n",
       "1       2       Feb            2071315\n",
       "2       3       Mar             854168\n",
       "3       4       Apr            1524339\n",
       "4       5       May            4166726\n",
       "5       6       Jun            6445083\n",
       "6       7       Jul            8320400\n",
       "7       8       Aug           15525255\n",
       "8       9       Sep            3018336\n",
       "9      10       Oct            1093962\n",
       "10     11       Nov             409263\n",
       "11     12       Dec             312097"
      ]
     },
     "execution_count": 10,
     "metadata": {},
     "output_type": "execute_result"
    }
   ],
   "source": [
    "df_by_month = (\n",
    "    df.groupby(['month', 'month_txt'])['number_of_strikes']\n",
    "    .sum()\n",
    "    .reset_index()\n",
    "    .sort_values('month', ascending=True)\n",
    ")\n",
    "\n",
    "df_by_month"
   ]
  },
  {
   "cell_type": "markdown",
   "metadata": {},
   "source": [
    "Now, I will create a bar chart to visualize the total number of strikes per month.\n"
   ]
  },
  {
   "cell_type": "code",
   "execution_count": 11,
   "metadata": {},
   "outputs": [
    {
     "data": {
      "image/png": "[encoded data removed]",
      "text/plain": [
       "<Figure size 640x480 with 1 Axes>"
      ]
     },
     "metadata": {},
     "output_type": "display_data"
    }
   ],
   "source": [
    "plt.bar(x=df_by_month['month_txt'], height=df_by_month['number_of_strikes'], label='Number of Strikes')\n",
    "plt.xlabel('Months (2018)')\n",
    "plt.ylabel('Number of Lightning Strikes')\n",
    "plt.title('Number of Lightning Strikes in 2018 by Month')\n",
    "plt.legend()\n",
    "plt.show()"
   ]
  },
  {
   "cell_type": "markdown",
   "metadata": {},
   "source": [
    "### Load the Second Dataset\n",
    "\n",
    "I will now load the second dataset, which contains lightning strike data along with additional location information like zip_code, city, and state."
   ]
  },
  {
   "cell_type": "code",
   "execution_count": 12,
   "metadata": {},
   "outputs": [],
   "source": [
    "df2= pd.read_csv(r'C:\\Users\\saswa\\Documents\\GitHub\\NOAA-Lightning-Analysis\\Data\\eda_using_basic_data_functions_in_python_dataset2.csv')\n"
   ]
  },
  {
   "cell_type": "code",
   "execution_count": 13,
   "metadata": {},
   "outputs": [
    {
     "name": "stdout",
     "output_type": "stream",
     "text": [
      "        zip_code                         city      state state_code  \\\n",
      "597364     55129  Woodbury city, Newport city  Minnesota         MN   \n",
      "\n",
      "         latitude  longitude  count_lightning  center_point_geom  \n",
      "597364  44.883474 -92.892768                9  POINT(-92.9 44.9)  \n"
     ]
    }
   ],
   "source": [
    "print(df2.sample())"
   ]
  },
  {
   "cell_type": "markdown",
   "metadata": {},
   "source": [
    "### Basic Exploration of Dataset 2\n",
    "\n",
    "To understand the structure of the second dataset, I will check its size and display a sample of the data."
   ]
  },
  {
   "cell_type": "code",
   "execution_count": 14,
   "metadata": {},
   "outputs": [
    {
     "name": "stdout",
     "output_type": "stream",
     "text": [
      "Dataset Size: 13536808\n",
      "Dataset Shape: (1692101, 8)\n",
      "<class 'pandas.core.frame.DataFrame'>\n",
      "RangeIndex: 1692101 entries, 0 to 1692100\n",
      "Data columns (total 8 columns):\n",
      " #   Column             Dtype  \n",
      "---  ------             -----  \n",
      " 0   zip_code           int64  \n",
      " 1   city               object \n",
      " 2   state              object \n",
      " 3   state_code         object \n",
      " 4   latitude           float64\n",
      " 5   longitude          float64\n",
      " 6   count_lightning    int64  \n",
      " 7   center_point_geom  object \n",
      "dtypes: float64(2), int64(2), object(4)\n",
      "memory usage: 103.3+ MB\n",
      "None\n"
     ]
    }
   ],
   "source": [
    "print(\"Dataset Size:\", df2.size)\n",
    "print(\"Dataset Shape:\", df2.shape)\n",
    "print(df2.info())"
   ]
  },
  {
   "cell_type": "markdown",
   "metadata": {},
   "source": [
    "The dataset contains multiple columns, including zip_code, city, state, and count_lightning. We will also check for any missing values in the dataset."
   ]
  },
  {
   "cell_type": "code",
   "execution_count": 15,
   "metadata": {},
   "outputs": [
    {
     "name": "stdout",
     "output_type": "stream",
     "text": [
      "zip_code             0\n",
      "city                 0\n",
      "state                0\n",
      "state_code           0\n",
      "latitude             0\n",
      "longitude            0\n",
      "count_lightning      0\n",
      "center_point_geom    0\n",
      "dtype: int64\n"
     ]
    }
   ],
   "source": [
    "print(df2.isnull().sum())\n"
   ]
  },
  {
   "cell_type": "markdown",
   "metadata": {},
   "source": [
    "\n",
    "I will group the dataset by the state column and calculate the total number of lightning strikes in each state. Then, I will sort the results in descending order."
   ]
  },
  {
   "cell_type": "code",
   "execution_count": 16,
   "metadata": {},
   "outputs": [],
   "source": [
    "state_wise_lightning = df2.groupby('state')['count_lightning'].sum().reset_index().sort_values(by='count_lightning', ascending=False)\n"
   ]
  },
  {
   "cell_type": "markdown",
   "metadata": {},
   "source": [
    "\n",
    "Next, I will sort the dataset by the count_lightning column and display the top 10 locations with the highest number of lightning strikes, including zip_code, city, and state."
   ]
  },
  {
   "cell_type": "code",
   "execution_count": 17,
   "metadata": {},
   "outputs": [
    {
     "data": {
      "text/html": [
       "<div>\n",
       "<style scoped>\n",
       "    .dataframe tbody tr th:only-of-type {\n",
       "        vertical-align: middle;\n",
       "    }\n",
       "\n",
       "    .dataframe tbody tr th {\n",
       "        vertical-align: top;\n",
       "    }\n",
       "\n",
       "    .dataframe thead th {\n",
       "        text-align: right;\n",
       "    }\n",
       "</style>\n",
       "<table border=\"1\" class=\"dataframe\">\n",
       "  <thead>\n",
       "    <tr style=\"text-align: right;\">\n",
       "      <th></th>\n",
       "      <th>zip_code</th>\n",
       "      <th>city</th>\n",
       "      <th>state</th>\n",
       "      <th>count_lightning</th>\n",
       "    </tr>\n",
       "  </thead>\n",
       "  <tbody>\n",
       "    <tr>\n",
       "      <th>0</th>\n",
       "      <td>72031</td>\n",
       "      <td>Clinton city</td>\n",
       "      <td>Arkansas</td>\n",
       "      <td>2211</td>\n",
       "    </tr>\n",
       "    <tr>\n",
       "      <th>1</th>\n",
       "      <td>74063</td>\n",
       "      <td>Sand Springs city, Sapulpa city, Lotsee town, ...</td>\n",
       "      <td>Oklahoma</td>\n",
       "      <td>2142</td>\n",
       "    </tr>\n",
       "    <tr>\n",
       "      <th>2</th>\n",
       "      <td>63876</td>\n",
       "      <td>Senath city</td>\n",
       "      <td>Missouri</td>\n",
       "      <td>2061</td>\n",
       "    </tr>\n",
       "    <tr>\n",
       "      <th>3</th>\n",
       "      <td>72315</td>\n",
       "      <td>Blytheville city, Victoria town, Dell town, Go...</td>\n",
       "      <td>Arkansas</td>\n",
       "      <td>2031</td>\n",
       "    </tr>\n",
       "    <tr>\n",
       "      <th>4</th>\n",
       "      <td>74063</td>\n",
       "      <td>Sand Springs city, Sapulpa city, Lotsee town, ...</td>\n",
       "      <td>Oklahoma</td>\n",
       "      <td>1902</td>\n",
       "    </tr>\n",
       "    <tr>\n",
       "      <th>5</th>\n",
       "      <td>39421</td>\n",
       "      <td>Bassfield town</td>\n",
       "      <td>Mississippi</td>\n",
       "      <td>1878</td>\n",
       "    </tr>\n",
       "    <tr>\n",
       "      <th>6</th>\n",
       "      <td>78011</td>\n",
       "      <td>Charlotte city</td>\n",
       "      <td>Texas</td>\n",
       "      <td>1833</td>\n",
       "    </tr>\n",
       "    <tr>\n",
       "      <th>7</th>\n",
       "      <td>63855</td>\n",
       "      <td>Hornersville city, Rives town</td>\n",
       "      <td>Missouri</td>\n",
       "      <td>1767</td>\n",
       "    </tr>\n",
       "    <tr>\n",
       "      <th>8</th>\n",
       "      <td>78113</td>\n",
       "      <td>Falls City city</td>\n",
       "      <td>Texas</td>\n",
       "      <td>1741</td>\n",
       "    </tr>\n",
       "    <tr>\n",
       "      <th>9</th>\n",
       "      <td>78026</td>\n",
       "      <td>Christine town, Pleasanton city, Jourdanton city</td>\n",
       "      <td>Texas</td>\n",
       "      <td>1655</td>\n",
       "    </tr>\n",
       "  </tbody>\n",
       "</table>\n",
       "</div>"
      ],
      "text/plain": [
       "   zip_code                                               city        state  \\\n",
       "0     72031                                       Clinton city     Arkansas   \n",
       "1     74063  Sand Springs city, Sapulpa city, Lotsee town, ...     Oklahoma   \n",
       "2     63876                                        Senath city     Missouri   \n",
       "3     72315  Blytheville city, Victoria town, Dell town, Go...     Arkansas   \n",
       "4     74063  Sand Springs city, Sapulpa city, Lotsee town, ...     Oklahoma   \n",
       "5     39421                                     Bassfield town  Mississippi   \n",
       "6     78011                                     Charlotte city        Texas   \n",
       "7     63855                      Hornersville city, Rives town     Missouri   \n",
       "8     78113                                    Falls City city        Texas   \n",
       "9     78026   Christine town, Pleasanton city, Jourdanton city        Texas   \n",
       "\n",
       "   count_lightning  \n",
       "0             2211  \n",
       "1             2142  \n",
       "2             2061  \n",
       "3             2031  \n",
       "4             1902  \n",
       "5             1878  \n",
       "6             1833  \n",
       "7             1767  \n",
       "8             1741  \n",
       "9             1655  "
      ]
     },
     "execution_count": 17,
     "metadata": {},
     "output_type": "execute_result"
    }
   ],
   "source": [
    "top_10_locations = df2[['zip_code', 'city', 'state', 'count_lightning']].sort_values(by='count_lightning', ascending=False).head(10)\n",
    "top_10_locations"
   ]
  },
  {
   "cell_type": "markdown",
   "metadata": {},
   "source": [
    "Now, I will create a horizontal bar chart to visualize the top 10 locations with the highest number of lightning strikes. The city column will be on the y-axis, and the number of lightning strikes will be represented on the x-axis."
   ]
  },
  {
   "cell_type": "code",
   "execution_count": 20,
   "metadata": {},
   "outputs": [
    {
     "data": {
      "image/png": "[encoded data removed]",
      "text/plain": [
       "<Figure size 800x400 with 1 Axes>"
      ]
     },
     "metadata": {},
     "output_type": "display_data"
    }
   ],
   "source": [
    "import matplotlib.pyplot as plt\n",
    "\n",
    "# Plotting the bar chart\n",
    "plt.figure(figsize=(8,4))\n",
    "plt.barh(top_10_locations['city'], top_10_locations['count_lightning'], color='skyblue')\n",
    "plt.xlabel('Number of Strikes')\n",
    "plt.ylabel('City')\n",
    "plt.title('Top 10 Locations with the Highest Number of Lightning Strikes')\n",
    "plt.gca().invert_yaxis()  # Invert y-axis to show the highest value at the top\n",
    "plt.show()\n"
   ]
  },
  {
   "cell_type": "markdown",
   "metadata": {},
   "source": []
  }
 ],
 "metadata": {
  "kernelspec": {
   "display_name": "venv",
   "language": "python",
   "name": "python3"
  },
  "language_info": {
   "codemirror_mode": {
    "name": "ipython",
    "version": 3
   },
   "file_extension": ".py",
   "mimetype": "text/x-python",
   "name": "python",
   "nbconvert_exporter": "python",
   "pygments_lexer": "ipython3",
   "version": "3.13.0"
  }
 },
 "nbformat": 4,
 "nbformat_minor": 2
}
